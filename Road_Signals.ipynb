{
 "cells": [
  {
   "cell_type": "code",
   "execution_count": 2,
   "metadata": {},
   "outputs": [],
   "source": [
    "import tensorflow as tf\n",
    "import tensorflow_datasets as tfds \n",
    "import numpy as np\n",
    "import matplotlib.pyplot as plt \n",
    "import cv2\n",
    "\n",
    "from tensorflow import keras"
   ]
  },
  {
   "cell_type": "code",
   "execution_count": 3,
   "metadata": {},
   "outputs": [],
   "source": [
    "# Process the data\n",
    "train_ds, test_ds = tfds.load('visual_domain_decathlon/gtsrb', \n",
    "                              split = ['train', 'test'], \n",
    "                              shuffle_files=True, as_supervised = True)"
   ]
  },
  {
   "cell_type": "code",
   "execution_count": 4,
   "metadata": {},
   "outputs": [],
   "source": [
    "train_ds = tfds.as_numpy(train_ds)\n",
    "test_ds = tfds.as_numpy(test_ds)"
   ]
  },
  {
   "cell_type": "code",
   "execution_count": 5,
   "metadata": {},
   "outputs": [],
   "source": [
    "def create_img_label_set(data_set, dimension):\n",
    "    image_set = []\n",
    "    label_set = []\n",
    "    for img in data_set:\n",
    "        image, label = img[0], img[1]\n",
    "        res = cv2.resize(image, dsize = (dimension, dimension), \n",
    "                         interpolation = cv2.INTER_CUBIC)\n",
    "        image_set.append(res)\n",
    "        label_set.append(label)\n",
    "    return np.asarray(image_set), np.asarray(label_set)"
   ]
  },
  {
   "cell_type": "code",
   "execution_count": 6,
   "metadata": {},
   "outputs": [
    {
     "name": "stdout",
     "output_type": "stream",
     "text": [
      "43997\n"
     ]
    }
   ],
   "source": [
    "img_train, label_train = create_img_label_set(train_ds, 72)\n",
    "img_test, label_test = create_img_label_set(test_ds, 72)\n",
    "print(img_train.shape[0]+img_test.shape[0])"
   ]
  },
  {
   "cell_type": "code",
   "execution_count": 7,
   "metadata": {},
   "outputs": [
    {
     "data": {
      "image/png": "[encoded data removed]",
      "text/plain": [
       "<Figure size 432x288 with 1 Axes>"
      ]
     },
     "metadata": {
      "needs_background": "light"
     },
     "output_type": "display_data"
    },
    {
     "name": "stdout",
     "output_type": "stream",
     "text": [
      "(72, 72, 3)\n",
      "(72, 72, 3)\n",
      "(72, 72, 3)\n",
      "(72, 72, 3)\n",
      "(72, 72, 3)\n",
      "(72, 72, 3)\n"
     ]
    }
   ],
   "source": [
    "plt.imshow(img_train[0])\n",
    "plt.show()\n",
    "print(img_train[5].shape)\n",
    "print(img_train[1].shape)\n",
    "print(img_train[23].shape)\n",
    "print(img_train[2].shape)\n",
    "print(img_train[9].shape)\n",
    "print(img_train[50].shape)"
   ]
  },
  {
   "cell_type": "code",
   "execution_count": 8,
   "metadata": {},
   "outputs": [
    {
     "name": "stdout",
     "output_type": "stream",
     "text": [
      "Train images shape: (31367, 72, 72, 3)\n",
      "Train labels shape: (31367,)\n",
      "Test images shape: (12630, 72, 72, 3)\n",
      "Test labels shape: (12630,)\n"
     ]
    }
   ],
   "source": [
    "print('Train images shape:', img_train.shape)\n",
    "print('Train labels shape:', label_train.shape)\n",
    "print('Test images shape:', img_test.shape)\n",
    "print('Test labels shape:', label_test.shape)"
   ]
  },
  {
   "cell_type": "code",
   "execution_count": 9,
   "metadata": {},
   "outputs": [],
   "source": [
    "# Build the model\n",
    "model = keras.Sequential()\n",
    "model.add(keras.layers.Conv2D(64, (3, 3), input_shape=(72,72,3)))\n",
    "model.add(keras.layers.Activation('relu'))\n",
    "model.add(keras.layers.MaxPooling2D(pool_size=(2, 2)))\n",
    "\n",
    "model.add(keras.layers.Conv2D(32, (3, 3)))\n",
    "model.add(keras.layers.Activation('relu'))\n",
    "model.add(keras.layers.MaxPooling2D(pool_size=(2, 2)))\n",
    "\n",
    "#model.add(keras.layers.Conv2D(64, (3, 3)))\n",
    "#model.add(keras.layers.Activation('relu'))\n",
    "#model.add(keras.layers.MaxPooling2D(pool_size=(2, 2)))\n",
    "\n",
    "model.add(keras.layers.Flatten())\n",
    "model.add(keras.layers.Dense(64))\n",
    "model.add(keras.layers.Activation('relu'))\n",
    "model.add(keras.layers.Dropout(0.5))\n",
    "model.add(keras.layers.Dense(2, activation='softmax'))"
   ]
  },
  {
   "cell_type": "code",
   "execution_count": 10,
   "metadata": {},
   "outputs": [],
   "source": [
    "# Compile the model\n",
    "model.compile(loss='sparse_categorical_crossentropy', optimizer='rmsprop', metrics=['accuracy'])"
   ]
  },
  {
   "cell_type": "code",
   "execution_count": null,
   "metadata": {},
   "outputs": [
    {
     "name": "stdout",
     "output_type": "stream",
     "text": [
      "Epoch 1/10\n"
     ]
    }
   ],
   "source": [
    "# Train the model\n",
    "model.fit(img_train, label_train, validation_data = (img_test, label_test), epochs = 10, batch_size = 128)"
   ]
  },
  {
   "cell_type": "code",
   "execution_count": null,
   "metadata": {},
   "outputs": [],
   "source": [
    "# Evaluate the model\n",
    "accuracy = model.evaluate(img_test, label_test, verbose = 0)\n",
    "print('Accuracy: %.2f%%' % (accuracy[1]*100))"
   ]
  }
 ],
 "metadata": {
  "kernelspec": {
   "display_name": "Python 3",
   "language": "python",
   "name": "python3"
  },
  "language_info": {
   "codemirror_mode": {
    "name": "ipython",
    "version": 3
   },
   "file_extension": ".py",
   "mimetype": "text/x-python",
   "name": "python",
   "nbconvert_exporter": "python",
   "pygments_lexer": "ipython3",
   "version": "3.6.10"
  }
 },
 "nbformat": 4,
 "nbformat_minor": 2
}
