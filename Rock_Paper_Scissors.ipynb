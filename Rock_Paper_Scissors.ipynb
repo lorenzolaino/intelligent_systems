{
 "cells": [
  {
   "cell_type": "code",
   "execution_count": 16,
   "metadata": {},
   "outputs": [],
   "source": [
    "import tensorflow as tf\n",
    "import tensorflow_datasets as tfds\n",
    "import numpy as np\n",
    "import matplotlib.pyplot as plt\n",
    "import cv2\n",
    "\n",
    "from tensorflow import keras"
   ]
  },
  {
   "cell_type": "code",
   "execution_count": 17,
   "metadata": {},
   "outputs": [],
   "source": [
    "train_ds, test_ds = tfds.load(\"rock_paper_scissors\" , split=['train', 'test'], shuffle_files=True, as_supervised=True)\n",
    "#(train_images, train_labels), (test_images, test_labels) = keras.datasets.cifar100.load_data(label_mode=\"fine\")"
   ]
  },
  {
   "cell_type": "code",
   "execution_count": 18,
   "metadata": {},
   "outputs": [],
   "source": [
    "train_array = tfds.as_numpy(train_ds)\n",
    "test_array = tfds.as_numpy(test_ds)"
   ]
  },
  {
   "cell_type": "code",
   "execution_count": 19,
   "metadata": {},
   "outputs": [],
   "source": [
    "def create_img_label_set(data_set):\n",
    "    image_set = []\n",
    "    label_set = []\n",
    "    for img in data_set:\n",
    "        image, label = img[0], img[1]\n",
    "        image_set.append(image)\n",
    "        label_set.append(label)\n",
    "    return np.asarray(image_set), np.asarray(label_set)"
   ]
  },
  {
   "cell_type": "code",
   "execution_count": 20,
   "metadata": {},
   "outputs": [
    {
     "name": "stdout",
     "output_type": "stream",
     "text": [
      "2892\n"
     ]
    }
   ],
   "source": [
    "img_train, label_train = create_img_label_set(train_ds)\n",
    "img_test, label_test = create_img_label_set(test_ds)\n",
    "print(img_train.shape[0] + img_test.shape[0])"
   ]
  },
  {
   "cell_type": "code",
   "execution_count": null,
   "metadata": {},
   "outputs": [],
   "source": [
    "plt.imshow(img_train[0])\n",
    "plt.show()\n",
    "print(img_train[5].shape)\n",
    "print(img_train[1].shape)\n",
    "print(img_train[23].shape)\n",
    "print(img_train[2].shape)\n",
    "print(img_train[9].shape)\n",
    "print(img_train[50].shape)"
   ]
  },
  {
   "cell_type": "code",
   "execution_count": null,
   "metadata": {},
   "outputs": [],
   "source": [
    "print('Train images shape:', img_train.shape)\n",
    "print('Train labels shape:', label_train.shape)\n",
    "print('Test images shape:', img_test.shape)\n",
    "print('Test labels shape:', label_test.shape)"
   ]
  },
  {
   "cell_type": "code",
   "execution_count": null,
   "metadata": {},
   "outputs": [],
   "source": [
    "# Build the model\n",
    "model = keras.Sequential()\n",
    "model.add(keras.layers.Conv2D(64, (3, 3), input_shape=(72,72,3)))\n",
    "model.add(keras.layers.Activation('relu'))\n",
    "model.add(keras.layers.MaxPooling2D(pool_size=(2, 2)))\n",
    "\n",
    "model.add(keras.layers.Conv2D(32, (3, 3)))\n",
    "model.add(keras.layers.Activation('relu'))\n",
    "model.add(keras.layers.MaxPooling2D(pool_size=(2, 2)))\n",
    "\n",
    "#model.add(keras.layers.Conv2D(64, (3, 3)))\n",
    "#model.add(keras.layers.Activation('relu'))\n",
    "#model.add(keras.layers.MaxPooling2D(pool_size=(2, 2)))\n",
    "\n",
    "model.add(keras.layers.Flatten())\n",
    "model.add(keras.layers.Dense(64))\n",
    "model.add(keras.layers.Activation('relu'))\n",
    "model.add(keras.layers.Dropout(0.5))\n",
    "model.add(keras.layers.Dense(2, activation='softmax'))"
   ]
  },
  {
   "cell_type": "code",
   "execution_count": null,
   "metadata": {},
   "outputs": [],
   "source": [
    "# Compile the model\n",
    "model.compile(loss='sparse_categorical_crossentropy', optimizer='rmsprop', metrics=['accuracy'])"
   ]
  },
  {
   "cell_type": "code",
   "execution_count": null,
   "metadata": {},
   "outputs": [],
   "source": [
    "# Train the model\n",
    "model.fit(img_train, label_train, validation_data = (img_test, label_test), epochs = 10, batch_size = 128)"
   ]
  }
 ],
 "metadata": {
  "kernelspec": {
   "display_name": "Python 3",
   "language": "python",
   "name": "python3"
  },
  "language_info": {
   "codemirror_mode": {
    "name": "ipython",
    "version": 3
   },
   "file_extension": ".py",
   "mimetype": "text/x-python",
   "name": "python",
   "nbconvert_exporter": "python",
   "pygments_lexer": "ipython3",
   "version": "3.6.10"
  }
 },
 "nbformat": 4,
 "nbformat_minor": 4
}
